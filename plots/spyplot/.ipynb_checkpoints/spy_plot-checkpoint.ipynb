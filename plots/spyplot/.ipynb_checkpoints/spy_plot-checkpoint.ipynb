{
 "cells": [
  {
   "cell_type": "code",
   "execution_count": 1,
   "metadata": {},
   "outputs": [],
   "source": [
    "import matplotlib.pyplot as plt\n",
    "import numpy as np\n",
    "import seaborn as sns\n",
    "import pandas as pd\n",
    "import os.path\n",
    "\n",
    "%matplotlib inline\n",
    "os.environ['PATH'] = os.environ['PATH'] + ':/Library/TeX/texbin/latex'\n",
    "plt.rc('text', usetex=True)"
   ]
  },
  {
   "cell_type": "code",
   "execution_count": 2,
   "metadata": {},
   "outputs": [],
   "source": [
    "#read mtx into graph\n",
    "def read_mm(input): \n",
    "    from scipy.io import mmread\n",
    "    return mmread(input)"
   ]
  },
  {
   "cell_type": "code",
   "execution_count": 8,
   "metadata": {
    "scrolled": false
   },
   "outputs": [],
   "source": [
    "def spy_plot(g, relabel_g, input):\n",
    "    fig = plt.figure(figsize=(10,4))\n",
    "    ax1 = plt.subplot(121)\n",
    "    ax1.spy(g, markersize=5)\n",
    "    ax2 = plt.subplot(122)\n",
    "    ax2.spy(relabel_g, markersize=5)\n",
    "    \n",
    "    plt.show()\n",
    "    fig.savefig(input + '.pdf', format = 'pdf', bbox_inches='tight')\n",
    "    fig.savefig(input + '.eps', format = 'eps', bbox_inches='tight', dpi = fig.dpi)\n",
    "    return"
   ]
  },
  {
   "cell_type": "markdown",
   "metadata": {
    "collapsed": true
   },
   "source": []
  },
  {
   "cell_type": "code",
   "execution_count": 9,
   "metadata": {},
   "outputs": [
    {
     "data": {
      "image/png": "[encoded data removed]",
      "text/plain": [
       "<Figure size 720x288 with 2 Axes>"
      ]
     },
     "metadata": {
      "needs_background": "light"
     },
     "output_type": "display_data"
    }
   ],
   "source": [
    "input = \"div2.mtx\"\n",
    "relabel0_input = \"div2_0.mtx\"\n",
    "g = read_mm(input)\n",
    "rg = read_mm(relabel0_input)\n",
    "spy_plot(g, rg, input)"
   ]
  },
  {
   "cell_type": "code",
   "execution_count": 10,
   "metadata": {},
   "outputs": [
    {
     "data": {
      "image/png": "[encoded data removed]",
      "text/plain": [
       "<Figure size 720x288 with 2 Axes>"
      ]
     },
     "metadata": {
      "needs_background": "light"
     },
     "output_type": "display_data"
    }
   ],
   "source": [
    "input = \"hr.mtx\"\n",
    "relabel0_input = \"hr0.mtx\"\n",
    "g = read_mm(input)\n",
    "rg = read_mm(relabel0_input)\n",
    "spy_plot(g, rg, input)"
   ]
  },
  {
   "cell_type": "code",
   "execution_count": null,
   "metadata": {},
   "outputs": [],
   "source": []
  }
 ],
 "metadata": {
  "kernelspec": {
   "display_name": "Python 2",
   "language": "python",
   "name": "python2"
  },
  "language_info": {
   "codemirror_mode": {
    "name": "ipython",
    "version": 2
   },
   "file_extension": ".py",
   "mimetype": "text/x-python",
   "name": "python",
   "nbconvert_exporter": "python",
   "pygments_lexer": "ipython2",
   "version": "2.7.17"
  }
 },
 "nbformat": 4,
 "nbformat_minor": 2
}
